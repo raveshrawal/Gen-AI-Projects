{
  "nbformat": 4,
  "nbformat_minor": 0,
  "metadata": {
    "colab": {
      "provenance": []
    },
    "kernelspec": {
      "name": "python3",
      "display_name": "Python 3"
    },
    "language_info": {
      "name": "python"
    }
  },
  "cells": [
    {
      "cell_type": "code",
      "execution_count": 1,
      "metadata": {
        "colab": {
          "base_uri": "https://localhost:8080/"
        },
        "id": "99FLLGzK1iy7",
        "outputId": "47cb49cc-b915-4034-afd6-4bd46fa01c51"
      },
      "outputs": [
        {
          "output_type": "stream",
          "name": "stdout",
          "text": [
            "Requirement already satisfied: langgraph in /usr/local/lib/python3.12/dist-packages (0.6.7)\n",
            "Requirement already satisfied: langchain-core>=0.1 in /usr/local/lib/python3.12/dist-packages (from langgraph) (0.3.75)\n",
            "Requirement already satisfied: langgraph-checkpoint<3.0.0,>=2.1.0 in /usr/local/lib/python3.12/dist-packages (from langgraph) (2.1.1)\n",
            "Requirement already satisfied: langgraph-prebuilt<0.7.0,>=0.6.0 in /usr/local/lib/python3.12/dist-packages (from langgraph) (0.6.4)\n",
            "Requirement already satisfied: langgraph-sdk<0.3.0,>=0.2.2 in /usr/local/lib/python3.12/dist-packages (from langgraph) (0.2.6)\n",
            "Requirement already satisfied: pydantic>=2.7.4 in /usr/local/lib/python3.12/dist-packages (from langgraph) (2.11.7)\n",
            "Requirement already satisfied: xxhash>=3.5.0 in /usr/local/lib/python3.12/dist-packages (from langgraph) (3.5.0)\n",
            "Requirement already satisfied: langsmith>=0.3.45 in /usr/local/lib/python3.12/dist-packages (from langchain-core>=0.1->langgraph) (0.4.24)\n",
            "Requirement already satisfied: tenacity!=8.4.0,<10.0.0,>=8.1.0 in /usr/local/lib/python3.12/dist-packages (from langchain-core>=0.1->langgraph) (8.5.0)\n",
            "Requirement already satisfied: jsonpatch<2.0,>=1.33 in /usr/local/lib/python3.12/dist-packages (from langchain-core>=0.1->langgraph) (1.33)\n",
            "Requirement already satisfied: PyYAML>=5.3 in /usr/local/lib/python3.12/dist-packages (from langchain-core>=0.1->langgraph) (6.0.2)\n",
            "Requirement already satisfied: typing-extensions>=4.7 in /usr/local/lib/python3.12/dist-packages (from langchain-core>=0.1->langgraph) (4.15.0)\n",
            "Requirement already satisfied: packaging>=23.2 in /usr/local/lib/python3.12/dist-packages (from langchain-core>=0.1->langgraph) (25.0)\n",
            "Requirement already satisfied: ormsgpack>=1.10.0 in /usr/local/lib/python3.12/dist-packages (from langgraph-checkpoint<3.0.0,>=2.1.0->langgraph) (1.10.0)\n",
            "Requirement already satisfied: httpx>=0.25.2 in /usr/local/lib/python3.12/dist-packages (from langgraph-sdk<0.3.0,>=0.2.2->langgraph) (0.28.1)\n",
            "Requirement already satisfied: orjson>=3.10.1 in /usr/local/lib/python3.12/dist-packages (from langgraph-sdk<0.3.0,>=0.2.2->langgraph) (3.11.3)\n",
            "Requirement already satisfied: annotated-types>=0.6.0 in /usr/local/lib/python3.12/dist-packages (from pydantic>=2.7.4->langgraph) (0.7.0)\n",
            "Requirement already satisfied: pydantic-core==2.33.2 in /usr/local/lib/python3.12/dist-packages (from pydantic>=2.7.4->langgraph) (2.33.2)\n",
            "Requirement already satisfied: typing-inspection>=0.4.0 in /usr/local/lib/python3.12/dist-packages (from pydantic>=2.7.4->langgraph) (0.4.1)\n",
            "Requirement already satisfied: anyio in /usr/local/lib/python3.12/dist-packages (from httpx>=0.25.2->langgraph-sdk<0.3.0,>=0.2.2->langgraph) (4.10.0)\n",
            "Requirement already satisfied: certifi in /usr/local/lib/python3.12/dist-packages (from httpx>=0.25.2->langgraph-sdk<0.3.0,>=0.2.2->langgraph) (2025.8.3)\n",
            "Requirement already satisfied: httpcore==1.* in /usr/local/lib/python3.12/dist-packages (from httpx>=0.25.2->langgraph-sdk<0.3.0,>=0.2.2->langgraph) (1.0.9)\n",
            "Requirement already satisfied: idna in /usr/local/lib/python3.12/dist-packages (from httpx>=0.25.2->langgraph-sdk<0.3.0,>=0.2.2->langgraph) (3.10)\n",
            "Requirement already satisfied: h11>=0.16 in /usr/local/lib/python3.12/dist-packages (from httpcore==1.*->httpx>=0.25.2->langgraph-sdk<0.3.0,>=0.2.2->langgraph) (0.16.0)\n",
            "Requirement already satisfied: jsonpointer>=1.9 in /usr/local/lib/python3.12/dist-packages (from jsonpatch<2.0,>=1.33->langchain-core>=0.1->langgraph) (3.0.0)\n",
            "Requirement already satisfied: requests-toolbelt>=1.0.0 in /usr/local/lib/python3.12/dist-packages (from langsmith>=0.3.45->langchain-core>=0.1->langgraph) (1.0.0)\n",
            "Requirement already satisfied: requests>=2.0.0 in /usr/local/lib/python3.12/dist-packages (from langsmith>=0.3.45->langchain-core>=0.1->langgraph) (2.32.4)\n",
            "Requirement already satisfied: zstandard>=0.23.0 in /usr/local/lib/python3.12/dist-packages (from langsmith>=0.3.45->langchain-core>=0.1->langgraph) (0.24.0)\n",
            "Requirement already satisfied: charset_normalizer<4,>=2 in /usr/local/lib/python3.12/dist-packages (from requests>=2.0.0->langsmith>=0.3.45->langchain-core>=0.1->langgraph) (3.4.3)\n",
            "Requirement already satisfied: urllib3<3,>=1.21.1 in /usr/local/lib/python3.12/dist-packages (from requests>=2.0.0->langsmith>=0.3.45->langchain-core>=0.1->langgraph) (2.5.0)\n",
            "Requirement already satisfied: sniffio>=1.1 in /usr/local/lib/python3.12/dist-packages (from anyio->httpx>=0.25.2->langgraph-sdk<0.3.0,>=0.2.2->langgraph) (1.3.1)\n",
            "Requirement already satisfied: python-dotenv in /usr/local/lib/python3.12/dist-packages (1.1.1)\n",
            "Requirement already satisfied: langchain[groq] in /usr/local/lib/python3.12/dist-packages (0.3.27)\n",
            "Requirement already satisfied: langchain-core<1.0.0,>=0.3.72 in /usr/local/lib/python3.12/dist-packages (from langchain[groq]) (0.3.75)\n",
            "Requirement already satisfied: langchain-text-splitters<1.0.0,>=0.3.9 in /usr/local/lib/python3.12/dist-packages (from langchain[groq]) (0.3.11)\n",
            "Requirement already satisfied: langsmith>=0.1.17 in /usr/local/lib/python3.12/dist-packages (from langchain[groq]) (0.4.24)\n",
            "Requirement already satisfied: pydantic<3.0.0,>=2.7.4 in /usr/local/lib/python3.12/dist-packages (from langchain[groq]) (2.11.7)\n",
            "Requirement already satisfied: SQLAlchemy<3,>=1.4 in /usr/local/lib/python3.12/dist-packages (from langchain[groq]) (2.0.43)\n",
            "Requirement already satisfied: requests<3,>=2 in /usr/local/lib/python3.12/dist-packages (from langchain[groq]) (2.32.4)\n",
            "Requirement already satisfied: PyYAML>=5.3 in /usr/local/lib/python3.12/dist-packages (from langchain[groq]) (6.0.2)\n",
            "Requirement already satisfied: langchain-groq in /usr/local/lib/python3.12/dist-packages (from langchain[groq]) (0.3.8)\n",
            "Requirement already satisfied: tenacity!=8.4.0,<10.0.0,>=8.1.0 in /usr/local/lib/python3.12/dist-packages (from langchain-core<1.0.0,>=0.3.72->langchain[groq]) (8.5.0)\n",
            "Requirement already satisfied: jsonpatch<2.0,>=1.33 in /usr/local/lib/python3.12/dist-packages (from langchain-core<1.0.0,>=0.3.72->langchain[groq]) (1.33)\n",
            "Requirement already satisfied: typing-extensions>=4.7 in /usr/local/lib/python3.12/dist-packages (from langchain-core<1.0.0,>=0.3.72->langchain[groq]) (4.15.0)\n",
            "Requirement already satisfied: packaging>=23.2 in /usr/local/lib/python3.12/dist-packages (from langchain-core<1.0.0,>=0.3.72->langchain[groq]) (25.0)\n",
            "Requirement already satisfied: httpx<1,>=0.23.0 in /usr/local/lib/python3.12/dist-packages (from langsmith>=0.1.17->langchain[groq]) (0.28.1)\n",
            "Requirement already satisfied: orjson>=3.9.14 in /usr/local/lib/python3.12/dist-packages (from langsmith>=0.1.17->langchain[groq]) (3.11.3)\n",
            "Requirement already satisfied: requests-toolbelt>=1.0.0 in /usr/local/lib/python3.12/dist-packages (from langsmith>=0.1.17->langchain[groq]) (1.0.0)\n",
            "Requirement already satisfied: zstandard>=0.23.0 in /usr/local/lib/python3.12/dist-packages (from langsmith>=0.1.17->langchain[groq]) (0.24.0)\n",
            "Requirement already satisfied: annotated-types>=0.6.0 in /usr/local/lib/python3.12/dist-packages (from pydantic<3.0.0,>=2.7.4->langchain[groq]) (0.7.0)\n",
            "Requirement already satisfied: pydantic-core==2.33.2 in /usr/local/lib/python3.12/dist-packages (from pydantic<3.0.0,>=2.7.4->langchain[groq]) (2.33.2)\n",
            "Requirement already satisfied: typing-inspection>=0.4.0 in /usr/local/lib/python3.12/dist-packages (from pydantic<3.0.0,>=2.7.4->langchain[groq]) (0.4.1)\n",
            "Requirement already satisfied: charset_normalizer<4,>=2 in /usr/local/lib/python3.12/dist-packages (from requests<3,>=2->langchain[groq]) (3.4.3)\n",
            "Requirement already satisfied: idna<4,>=2.5 in /usr/local/lib/python3.12/dist-packages (from requests<3,>=2->langchain[groq]) (3.10)\n",
            "Requirement already satisfied: urllib3<3,>=1.21.1 in /usr/local/lib/python3.12/dist-packages (from requests<3,>=2->langchain[groq]) (2.5.0)\n",
            "Requirement already satisfied: certifi>=2017.4.17 in /usr/local/lib/python3.12/dist-packages (from requests<3,>=2->langchain[groq]) (2025.8.3)\n",
            "Requirement already satisfied: greenlet>=1 in /usr/local/lib/python3.12/dist-packages (from SQLAlchemy<3,>=1.4->langchain[groq]) (3.2.4)\n",
            "Requirement already satisfied: groq<1,>=0.30.0 in /usr/local/lib/python3.12/dist-packages (from langchain-groq->langchain[groq]) (0.31.1)\n",
            "Requirement already satisfied: anyio<5,>=3.5.0 in /usr/local/lib/python3.12/dist-packages (from groq<1,>=0.30.0->langchain-groq->langchain[groq]) (4.10.0)\n",
            "Requirement already satisfied: distro<2,>=1.7.0 in /usr/local/lib/python3.12/dist-packages (from groq<1,>=0.30.0->langchain-groq->langchain[groq]) (1.9.0)\n",
            "Requirement already satisfied: sniffio in /usr/local/lib/python3.12/dist-packages (from groq<1,>=0.30.0->langchain-groq->langchain[groq]) (1.3.1)\n",
            "Requirement already satisfied: httpcore==1.* in /usr/local/lib/python3.12/dist-packages (from httpx<1,>=0.23.0->langsmith>=0.1.17->langchain[groq]) (1.0.9)\n",
            "Requirement already satisfied: h11>=0.16 in /usr/local/lib/python3.12/dist-packages (from httpcore==1.*->httpx<1,>=0.23.0->langsmith>=0.1.17->langchain[groq]) (0.16.0)\n",
            "Requirement already satisfied: jsonpointer>=1.9 in /usr/local/lib/python3.12/dist-packages (from jsonpatch<2.0,>=1.33->langchain-core<1.0.0,>=0.3.72->langchain[groq]) (3.0.0)\n"
          ]
        }
      ],
      "source": [
        "!pip install langgraph\n",
        "!pip install python-dotenv langchain[groq]"
      ]
    },
    {
      "cell_type": "code",
      "source": [
        "import os\n",
        "from google.colab import userdata\n",
        "from langchain.chat_models import init_chat_model\n",
        "from langgraph.graph import StateGraph\n",
        "from langchain_core.prompts import ChatPromptTemplate\n",
        "from langchain_core.output_parsers import StrOutputParser\n",
        "\n",
        "# Set API key\n",
        "os.environ[\"GROQ_API_KEY\"] = userdata.get('GROQ_KEY')\n",
        "\n",
        "# Initialize LLM model\n",
        "llm = init_chat_model(\"llama-3.1-8b-instant\", model_provider=\"groq\")\n"
      ],
      "metadata": {
        "id": "pfMWwNYU3Nlb"
      },
      "execution_count": 2,
      "outputs": []
    },
    {
      "cell_type": "code",
      "source": [
        "print(llm.invoke(\"What is WLan\").content)"
      ],
      "metadata": {
        "colab": {
          "base_uri": "https://localhost:8080/"
        },
        "id": "4nGCuu9e3RJF",
        "outputId": "1de52db8-a3f7-4c37-cb93-c4ad75a808f9"
      },
      "execution_count": 3,
      "outputs": [
        {
          "output_type": "stream",
          "name": "stdout",
          "text": [
            "WLAN stands for Wireless Local Area Network. It is a type of computer network that allows devices to connect to the internet or communicate with each other without the use of cables or wires. WLANs use radio waves to transmit data between devices, allowing for wireless connectivity and mobility.\n",
            "\n",
            "WLANs typically use a device called a wireless access point (AP) to connect to a wired network, such as a router or a switch. The AP broadcasts a signal that devices can detect and connect to, allowing them to access the network and the internet.\n",
            "\n",
            "Some common characteristics of WLANs include:\n",
            "\n",
            "1. **Wireless connectivity**: Devices can connect to the network without using cables or wires.\n",
            "2. **Mobility**: Users can move around while staying connected to the network.\n",
            "3. **Broadcasting**: The AP broadcasts a signal that devices can detect and connect to.\n",
            "4. **Security**: WLANs often use encryption and authentication protocols to secure data transmission.\n",
            "\n",
            "WLANs are commonly used in a variety of settings, including:\n",
            "\n",
            "1. **Home networks**: Many homes have a WLAN to connect devices such as laptops, smartphones, and tablets to the internet.\n",
            "2. **Business networks**: WLANs are often used in offices and other business settings to provide wireless connectivity and mobility.\n",
            "3. **Public hotspots**: WLANs are used in public places such as coffee shops, airports, and hotels to provide internet access to customers.\n",
            "4. **Gaming**: WLANs are often used in gaming environments to provide fast and reliable connectivity.\n",
            "\n",
            "Some common types of WLANs include:\n",
            "\n",
            "1. **Wi-Fi**: A widely used WLAN standard that operates on the 2.4 GHz and 5 GHz frequency bands.\n",
            "2. **Bluetooth**: A type of WLAN that operates on the 2.4 GHz frequency band and is commonly used for short-range connectivity.\n",
            "3. **IEEE 802.11**: A set of standards for WLANs that include Wi-Fi and other types of WLANs.\n",
            "\n",
            "Overall, WLANs have become an essential part of modern life, providing wireless connectivity and mobility for devices and users.\n"
          ]
        }
      ]
    },
    {
      "cell_type": "code",
      "source": [
        "from typing import TypedDict\n",
        "from langgraph.graph import StateGraph, END, START\n",
        "from IPython.display import display, Image\n",
        "\n",
        "# This defines the structure for the data that will be passed between nodes in your graph.\n",
        "# Each key represents a piece of information that can be updated during the process.\n",
        "class State(TypedDict):\n",
        "    query: str\n",
        "    category: str\n",
        "    sentiment: str\n",
        "    response: str"
      ],
      "metadata": {
        "id": "LWeBTGjv3yDc"
      },
      "execution_count": 6,
      "outputs": []
    },
    {
      "cell_type": "code",
      "source": [
        "# --- Node functions ---\n",
        "def categorize(state: State) -> State:\n",
        "    prompt = ChatPromptTemplate.from_template(\n",
        "        \"Categorize the following query into one of the following categories: Technical, Billing, General. Query: {query}\"\n",
        "    )\n",
        "    chain = prompt | llm\n",
        "    category = chain.invoke({\"query\": state[\"query\"]}).content\n",
        "    # Extract just the category word from the sentence\n",
        "    # This assumes the category is always the last word after \"as: \" or similar\n",
        "    category = category.split(':')[-1].strip().split('.')[0].strip()\n",
        "    print(f\"Category: {category}\")\n",
        "    return {\"category\": category}\n",
        "\n",
        "def analyze_sentiment(state: State) -> State:\n",
        "    prompt = ChatPromptTemplate.from_template(\n",
        "        \"Analyze the sentiment of the following query. Query: {query}\"\n",
        "    )\n",
        "    chain = prompt | llm\n",
        "    sentiment = chain.invoke({\"query\": state[\"query\"]}).content\n",
        "    print(f\"Sentiment: {sentiment}\")\n",
        "    return {\"sentiment\": sentiment}\n",
        "\n",
        "def handle_technical(state: State) -> State:\n",
        "    print(\"Handling the technical query\")\n",
        "    prompt = ChatPromptTemplate.from_template(\n",
        "        \"Provide a technical support response to the following query: {query}\"\n",
        "    )\n",
        "    chain = prompt | llm\n",
        "    response = chain.invoke({\"query\": state[\"query\"]}).content\n",
        "    return {\"response\": response}\n",
        "\n",
        "def handle_billing(state: State) -> State:\n",
        "    print(\"Handling the billing query\")\n",
        "    prompt = ChatPromptTemplate.from_template(\n",
        "        \"Provide a billing support response to the following query: {query}\"\n",
        "    )\n",
        "    chain = prompt | llm\n",
        "    response = chain.invoke({\"query\": state[\"query\"]}).content\n",
        "    return {\"response\": response}\n",
        "\n",
        "def handle_general(state: State) -> State:\n",
        "    print(\"Handling the general query\")\n",
        "    prompt = ChatPromptTemplate.from_template(\n",
        "        \"Provide a general support response to the following query: {query}\"\n",
        "    )\n",
        "    chain = prompt | llm\n",
        "    response = chain.invoke({\"query\": state[\"query\"]}).content\n",
        "    return {\"response\": response}\n",
        "\n",
        "def escalate(state: State) -> State:\n",
        "    print(\"Escalating Query\")\n",
        "    return {\"response\": \"This query has been escalated to a human agent due to its negative sentiment\"}\n",
        "\n",
        "# --- Workflow setup ---\n",
        "workflow = StateGraph(State)\n",
        "\n",
        "# Add nodes\n",
        "workflow.add_node(\"categorize\", categorize)\n",
        "workflow.add_node(\"analyze_sentiment\", analyze_sentiment)\n",
        "workflow.add_node(\"handle_technical\", handle_technical)\n",
        "workflow.add_node(\"handle_billing\", handle_billing)\n",
        "workflow.add_node(\"handle_general\", handle_general)\n",
        "workflow.add_node(\"escalate\", escalate)\n",
        "\n",
        "# Entry point\n",
        "workflow.add_edge(START, \"categorize\")\n",
        "\n",
        "# --- Conditional edges ---\n",
        "# categorize → analyze_sentiment\n",
        "workflow.add_edge(\"categorize\", \"analyze_sentiment\")\n",
        "\n",
        "# analyze_sentiment → conditional routing\n",
        "workflow.add_conditional_edges(\n",
        "    \"analyze_sentiment\",\n",
        "    lambda state: (\n",
        "        \"escalate\" if \"negative\" in state[\"sentiment\"].lower()\n",
        "        else state[\"category\"].strip().lower()\n",
        "    ),\n",
        "    {\n",
        "        \"escalate\": \"escalate\",\n",
        "        \"technical\": \"handle_technical\",\n",
        "        \"billing\": \"handle_billing\",\n",
        "        \"general\": \"handle_general\",\n",
        "    },\n",
        ")\n",
        "\n",
        "# Exit points\n",
        "workflow.add_edge(\"handle_technical\", END)\n",
        "workflow.add_edge(\"handle_billing\", END)\n",
        "workflow.add_edge(\"handle_general\", END)\n",
        "workflow.add_edge(\"escalate\", END)\n",
        "\n",
        "# Compile app\n",
        "app = workflow.compile()"
      ],
      "metadata": {
        "id": "_TjITnBo37H0"
      },
      "execution_count": 7,
      "outputs": []
    },
    {
      "cell_type": "code",
      "source": [
        "from IPython.display import Image, display\n",
        "\n",
        "try:\n",
        "    display(Image(app.get_graph().draw_mermaid_png()))\n",
        "except Exception as e:\n",
        "    print(\"Visualization error:\", e)\n"
      ],
      "metadata": {
        "colab": {
          "base_uri": "https://localhost:8080/",
          "height": 473
        },
        "id": "-_zqFHcS5gW8",
        "outputId": "17939479-867b-46a2-8657-53df41832df7"
      },
      "execution_count": 8,
      "outputs": [
        {
          "output_type": "display_data",
          "data": {
            "image/png": "[encoded data removed]",
            "text/plain": [
              "<IPython.core.display.Image object>"
            ]
          },
          "metadata": {}
        }
      ]
    },
    {
      "cell_type": "code",
      "source": [
        "result = app.invoke({\"query\": \"My internet is not working\"})\n",
        "print(\"Final Output:\", result)"
      ],
      "metadata": {
        "colab": {
          "base_uri": "https://localhost:8080/"
        },
        "id": "ZoE3QClG6Ztc",
        "outputId": "3cc4816a-cc29-4078-9ab1-cc5a14eb9252"
      },
      "execution_count": 9,
      "outputs": [
        {
          "output_type": "stream",
          "name": "stdout",
          "text": [
            "Category: I would categorize the query as \"Technical\"\n",
            "Sentiment: The sentiment of the query \"My internet is not working\" can be classified as negative. This is because the speaker is expressing frustration or inconvenience due to a problem with their internet connection, which is likely disrupting their daily activities or workflow. The tone is neutral in terms of emotional intensity, but the overall sentiment is clearly negative.\n",
            "Escalating Query\n",
            "Final Output: {'query': 'My internet is not working', 'category': 'I would categorize the query as \"Technical\"', 'sentiment': 'The sentiment of the query \"My internet is not working\" can be classified as negative. This is because the speaker is expressing frustration or inconvenience due to a problem with their internet connection, which is likely disrupting their daily activities or workflow. The tone is neutral in terms of emotional intensity, but the overall sentiment is clearly negative.', 'response': 'This query has been escalated to a human agent due to its negative sentiment'}\n"
          ]
        }
      ]
    },
    {
      "cell_type": "code",
      "source": [
        "def run_query(query: str) -> dict:\n",
        "    # Run the workflow\n",
        "    results = app.invoke({\"query\": query})\n",
        "\n",
        "    # Return the structured result\n",
        "    return {\n",
        "        \"query\": query,\n",
        "        \"category\": results.get(\"category\", \"\"),\n",
        "        \"sentiment\": results.get(\"sentiment\", \"\"),\n",
        "        \"response\": results.get(\"response\", \"\")\n",
        "    }\n",
        "\n",
        "# --- Example usage ---\n",
        "query = \"The price value in my invoice is wrong\"\n",
        "result = run_query(query)\n",
        "\n",
        "print(\"=== Result ===\")\n",
        "print(f\"Query: {result['query']}\")\n",
        "print(f\"Category: {result['category']}\")\n",
        "print(f\"Sentiment: {result['sentiment']}\")\n",
        "print(f\"Response: {result['response']}\")\n"
      ],
      "metadata": {
        "colab": {
          "base_uri": "https://localhost:8080/"
        },
        "id": "du2HWRKP8I2u",
        "outputId": "d0d32ca5-9b16-4b88-8602-208ca5e79c75"
      },
      "execution_count": 10,
      "outputs": [
        {
          "output_type": "stream",
          "name": "stdout",
          "text": [
            "Category: I would categorize the query as \"Billing\"\n",
            "Sentiment: The sentiment of the given query is neutral with a hint of frustration or concern. \n",
            "\n",
            "Here's a breakdown of the sentiment analysis:\n",
            "\n",
            "- The phrase \"The price value in my invoice is wrong\" is a factual statement, which indicates a neutral tone.\n",
            "- However, the phrase implies that there's an issue or an error, which might evoke feelings of frustration, concern, or disappointment in the speaker.\n",
            "- The speaker's tone is likely to be inquiring or questioning, as they're bringing the issue to someone's attention, which suggests a neutral-to-concerned sentiment.\n",
            "\n",
            "Overall, the sentiment of the query is not overtly negative or aggressive but rather seeking clarification or resolution to the issue.\n",
            "Escalating Query\n",
            "=== Result ===\n",
            "Query: The price value in my invoice is wrong\n",
            "Category: I would categorize the query as \"Billing\"\n",
            "Sentiment: The sentiment of the given query is neutral with a hint of frustration or concern. \n",
            "\n",
            "Here's a breakdown of the sentiment analysis:\n",
            "\n",
            "- The phrase \"The price value in my invoice is wrong\" is a factual statement, which indicates a neutral tone.\n",
            "- However, the phrase implies that there's an issue or an error, which might evoke feelings of frustration, concern, or disappointment in the speaker.\n",
            "- The speaker's tone is likely to be inquiring or questioning, as they're bringing the issue to someone's attention, which suggests a neutral-to-concerned sentiment.\n",
            "\n",
            "Overall, the sentiment of the query is not overtly negative or aggressive but rather seeking clarification or resolution to the issue.\n",
            "Response: This query has been escalated to a human agent due to its negative sentiment\n"
          ]
        }
      ]
    },
    {
      "cell_type": "code",
      "source": [
        "# Example query\n",
        "query = \"iphone isnt working\"\n",
        "\n",
        "# Run through workflow\n",
        "result = run_query(query)\n",
        "\n",
        "# Print nicely\n",
        "print(\"=== Result ===\")\n",
        "print(f\"Query: {result['query']}\")\n",
        "print(f\"Category: {result['category']}\")\n",
        "print(f\"Sentiment: {result['sentiment']}\")\n",
        "print(f\"Response: {result['response']}\")\n"
      ],
      "metadata": {
        "colab": {
          "base_uri": "https://localhost:8080/"
        },
        "id": "Ch6YRCpE8gx1",
        "outputId": "006f1dee-4a71-4f04-e4dc-ed8d3c31e7a3"
      },
      "execution_count": 11,
      "outputs": [
        {
          "output_type": "stream",
          "name": "stdout",
          "text": [
            "Category: I would categorize the query \"iphone isn't working\" as a Technical query\n",
            "Sentiment: The sentiment of the query \"iphone isnt working\" is negative. The phrase \"isnt working\" implies a problem or issue with the iPhone, which suggests frustration and possibly even anger or disappointment. The lack of specific details or context in the query also implies a sense of urgency or desperation, as the person is seeking help to resolve the issue. Overall, the sentiment is one of frustration or annoyance.\n",
            "Escalating Query\n",
            "=== Result ===\n",
            "Query: iphone isnt working\n",
            "Category: I would categorize the query \"iphone isn't working\" as a Technical query\n",
            "Sentiment: The sentiment of the query \"iphone isnt working\" is negative. The phrase \"isnt working\" implies a problem or issue with the iPhone, which suggests frustration and possibly even anger or disappointment. The lack of specific details or context in the query also implies a sense of urgency or desperation, as the person is seeking help to resolve the issue. Overall, the sentiment is one of frustration or annoyance.\n",
            "Response: This query has been escalated to a human agent due to its negative sentiment\n"
          ]
        }
      ]
    },
    {
      "cell_type": "code",
      "source": [
        "# First query: product issue\n",
        "query1 = \"I purchased the iPhone 16 but its screen is broken.\"\n",
        "result1 = run_query(query1)\n",
        "\n",
        "print(\"=== Result 1 ===\")\n",
        "print(f\"Query: {result1['query']}\")\n",
        "print(f\"Category: {result1['category']}\")\n",
        "print(f\"Sentiment: {result1['sentiment']}\")\n",
        "print(f\"Response: {result1['response']}\")\n",
        "print(\"\\n\")\n",
        "\n",
        "# Second query: negative sentiment complaint\n",
        "query2 = \"This is not the kind of service I was expecting?\"\n",
        "result2 = run_query(query2)\n",
        "\n",
        "print(\"=== Result 2 ===\")\n",
        "print(f\"Query: {result2['query']}\")\n",
        "print(f\"Category: {result2['category']}\")\n",
        "print(f\"Sentiment: {result2['sentiment']}\")\n",
        "print(f\"Response: {result2['response']}\")\n"
      ],
      "metadata": {
        "colab": {
          "base_uri": "https://localhost:8080/"
        },
        "id": "vhDKh1fy8lMd",
        "outputId": "b8e1a842-8ddf-4087-bd39-c29c115adb39"
      },
      "execution_count": 12,
      "outputs": [
        {
          "output_type": "stream",
          "name": "stdout",
          "text": [
            "Category: Technical\n",
            "Sentiment: The sentiment of the given query is negative. The user is expressing a problem with their iPhone 16, specifically that its screen is broken. This indicates dissatisfaction with the product's performance or quality, which contributes to the negative sentiment.\n",
            "Escalating Query\n",
            "=== Result 1 ===\n",
            "Query: I purchased the iPhone 16 but its screen is broken.\n",
            "Category: Technical\n",
            "Sentiment: The sentiment of the given query is negative. The user is expressing a problem with their iPhone 16, specifically that its screen is broken. This indicates dissatisfaction with the product's performance or quality, which contributes to the negative sentiment.\n",
            "Response: This query has been escalated to a human agent due to its negative sentiment\n",
            "\n",
            "\n",
            "Category: I would categorize the query as \"General\"\n",
            "Sentiment: The sentiment of the query is negative. The speaker is expressing dissatisfaction with the service they received, suggesting that it did not meet their expectations. The phrase \"not the kind of service I was expecting\" is a polite way of saying that the service was subpar, implying that the speaker's expectations were not met.\n",
            "Escalating Query\n",
            "=== Result 2 ===\n",
            "Query: This is not the kind of service I was expecting?\n",
            "Category: I would categorize the query as \"General\"\n",
            "Sentiment: The sentiment of the query is negative. The speaker is expressing dissatisfaction with the service they received, suggesting that it did not meet their expectations. The phrase \"not the kind of service I was expecting\" is a polite way of saying that the service was subpar, implying that the speaker's expectations were not met.\n",
            "Response: This query has been escalated to a human agent due to its negative sentiment\n"
          ]
        }
      ]
    },
    {
      "cell_type": "code",
      "source": [
        "# Query: positive + invoice request\n",
        "query = \"I am really happy with the service and I want invoice for my new purchase\"\n",
        "result = run_query(query)\n",
        "\n",
        "print(\"=== Result ===\")\n",
        "print(f\"Query: {result['query']}\")\n",
        "print(f\"Category: {result['category']}\")\n",
        "print(f\"Sentiment: {result['sentiment']}\")\n",
        "print(f\"Response: {result['response']}\")\n"
      ],
      "metadata": {
        "colab": {
          "base_uri": "https://localhost:8080/"
        },
        "id": "XPJfL4xh8t-d",
        "outputId": "32517d72-2330-4b98-d8cc-6fecc7f45ebe"
      },
      "execution_count": 15,
      "outputs": [
        {
          "output_type": "stream",
          "name": "stdout",
          "text": [
            "Category: Billing\n",
            "Sentiment: The sentiment of the query is overwhelmingly positive. The phrase \"I am really happy\" explicitly conveys a positive emotion, indicating satisfaction with the service received. The fact that the person is asking for an invoice for their new purchase also suggests confidence and a legitimate transaction, further reinforcing a positive sentiment. The tone is polite and courteous, indicating a high level of satisfaction with the purchase and the service.\n",
            "Handling the billing query\n",
            "=== Result ===\n",
            "Query: I am really happy with the service and I want invoice for my new purchase\n",
            "Category: Billing\n",
            "Sentiment: The sentiment of the query is overwhelmingly positive. The phrase \"I am really happy\" explicitly conveys a positive emotion, indicating satisfaction with the service received. The fact that the person is asking for an invoice for their new purchase also suggests confidence and a legitimate transaction, further reinforcing a positive sentiment. The tone is polite and courteous, indicating a high level of satisfaction with the purchase and the service.\n",
            "Response: Thank you for your kind words about our service. We're glad you're satisfied with your experience.\n",
            "\n",
            "Regarding your request for an invoice for your new purchase, we'd be happy to assist you with that. To ensure we provide you with the correct invoice, could you please provide us with the following information:\n",
            "\n",
            "1. Order number or reference number associated with your recent purchase.\n",
            "2. Your full name as it appears on the invoice.\n",
            "3. Billing address for the invoice (if different from the shipping address).\n",
            "\n",
            "Once we have this information, we'll be able to generate and send you an invoice for your new purchase.\n",
            "\n",
            "Additionally, if you'd like to have the invoice sent to you in a specific format (e.g., PDF, CSV) or if you have any specific payment details you'd like us to include, please let us know and we'll do our best to accommodate your request.\n",
            "\n",
            "Thank you for your patience and cooperation. We look forward to sending you your invoice promptly.\n"
          ]
        }
      ]
    },
    {
      "cell_type": "code",
      "source": [
        "# Query: general information\n",
        "query = \"is the new launch\"\n",
        "result = run_query(query)\n",
        "\n",
        "print(\"=== Result ===\")\n",
        "print(f\"Query: {result['query']}\")\n",
        "print(f\"Category: {result['category']}\")\n",
        "print(f\"Sentiment: {result['sentiment']}\")\n",
        "print(f\"Response: {result['response']}\")\n",
        "print(\"\\n\")\n"
      ],
      "metadata": {
        "colab": {
          "base_uri": "https://localhost:8080/"
        },
        "id": "6UjKaMgO89Og",
        "outputId": "d0081a91-4350-49a3-a1c0-b9535f4fab15"
      },
      "execution_count": 14,
      "outputs": [
        {
          "output_type": "stream",
          "name": "stdout",
          "text": [
            "Category: General\n",
            "Sentiment: The sentiment of the query \"Is the new launch\" is neutral or ambivalent. It doesn't express a clear emotion or opinion, and it's more of a question to gather information rather than express a sentiment. The lack of adjectives or emotive language suggests that the query is neutral and doesn't convey a specific sentiment.\n",
            "Handling the general query\n",
            "=== Result ===\n",
            "Query: is the new launch\n",
            "Category: General\n",
            "Sentiment: The sentiment of the query \"Is the new launch\" is neutral or ambivalent. It doesn't express a clear emotion or opinion, and it's more of a question to gather information rather than express a sentiment. The lack of adjectives or emotive language suggests that the query is neutral and doesn't convey a specific sentiment.\n",
            "Response: It sounds like you're asking about a new launch, but could you please provide more context or information about what you're referring to? I'd be happy to help if you can provide more details about the launch you're interested in, such as the product, service, or event.\n",
            "\n",
            "\n"
          ]
        }
      ]
    }
  ]
}