{
  "nbformat": 4,
  "nbformat_minor": 0,
  "metadata": {
    "colab": {
      "provenance": [],
      "gpuType": "T4"
    },
    "kernelspec": {
      "name": "python3",
      "display_name": "Python 3"
    },
    "language_info": {
      "name": "python"
    },
    "accelerator": "GPU"
  },
  "cells": [
    {
      "cell_type": "code",
      "execution_count": 18,
      "metadata": {
        "colab": {
          "base_uri": "https://localhost:8080/"
        },
        "id": "Vat6PB-dyjym",
        "outputId": "c6a2b532-5a5b-4fc2-9104-47f9e5c7f7ca"
      },
      "outputs": [
        {
          "output_type": "stream",
          "name": "stdout",
          "text": [
            "Requirement already satisfied: langgraph in /usr/local/lib/python3.12/dist-packages (0.6.7)\n",
            "Requirement already satisfied: langchain-core>=0.1 in /usr/local/lib/python3.12/dist-packages (from langgraph) (0.3.75)\n",
            "Requirement already satisfied: langgraph-checkpoint<3.0.0,>=2.1.0 in /usr/local/lib/python3.12/dist-packages (from langgraph) (2.1.1)\n",
            "Requirement already satisfied: langgraph-prebuilt<0.7.0,>=0.6.0 in /usr/local/lib/python3.12/dist-packages (from langgraph) (0.6.4)\n",
            "Requirement already satisfied: langgraph-sdk<0.3.0,>=0.2.2 in /usr/local/lib/python3.12/dist-packages (from langgraph) (0.2.6)\n",
            "Requirement already satisfied: pydantic>=2.7.4 in /usr/local/lib/python3.12/dist-packages (from langgraph) (2.11.7)\n",
            "Requirement already satisfied: xxhash>=3.5.0 in /usr/local/lib/python3.12/dist-packages (from langgraph) (3.5.0)\n",
            "Requirement already satisfied: langsmith>=0.3.45 in /usr/local/lib/python3.12/dist-packages (from langchain-core>=0.1->langgraph) (0.4.24)\n",
            "Requirement already satisfied: tenacity!=8.4.0,<10.0.0,>=8.1.0 in /usr/local/lib/python3.12/dist-packages (from langchain-core>=0.1->langgraph) (8.5.0)\n",
            "Requirement already satisfied: jsonpatch<2.0,>=1.33 in /usr/local/lib/python3.12/dist-packages (from langchain-core>=0.1->langgraph) (1.33)\n",
            "Requirement already satisfied: PyYAML>=5.3 in /usr/local/lib/python3.12/dist-packages (from langchain-core>=0.1->langgraph) (6.0.2)\n",
            "Requirement already satisfied: typing-extensions>=4.7 in /usr/local/lib/python3.12/dist-packages (from langchain-core>=0.1->langgraph) (4.15.0)\n",
            "Requirement already satisfied: packaging>=23.2 in /usr/local/lib/python3.12/dist-packages (from langchain-core>=0.1->langgraph) (25.0)\n",
            "Requirement already satisfied: ormsgpack>=1.10.0 in /usr/local/lib/python3.12/dist-packages (from langgraph-checkpoint<3.0.0,>=2.1.0->langgraph) (1.10.0)\n",
            "Requirement already satisfied: httpx>=0.25.2 in /usr/local/lib/python3.12/dist-packages (from langgraph-sdk<0.3.0,>=0.2.2->langgraph) (0.28.1)\n",
            "Requirement already satisfied: orjson>=3.10.1 in /usr/local/lib/python3.12/dist-packages (from langgraph-sdk<0.3.0,>=0.2.2->langgraph) (3.11.3)\n",
            "Requirement already satisfied: annotated-types>=0.6.0 in /usr/local/lib/python3.12/dist-packages (from pydantic>=2.7.4->langgraph) (0.7.0)\n",
            "Requirement already satisfied: pydantic-core==2.33.2 in /usr/local/lib/python3.12/dist-packages (from pydantic>=2.7.4->langgraph) (2.33.2)\n",
            "Requirement already satisfied: typing-inspection>=0.4.0 in /usr/local/lib/python3.12/dist-packages (from pydantic>=2.7.4->langgraph) (0.4.1)\n",
            "Requirement already satisfied: anyio in /usr/local/lib/python3.12/dist-packages (from httpx>=0.25.2->langgraph-sdk<0.3.0,>=0.2.2->langgraph) (4.10.0)\n",
            "Requirement already satisfied: certifi in /usr/local/lib/python3.12/dist-packages (from httpx>=0.25.2->langgraph-sdk<0.3.0,>=0.2.2->langgraph) (2025.8.3)\n",
            "Requirement already satisfied: httpcore==1.* in /usr/local/lib/python3.12/dist-packages (from httpx>=0.25.2->langgraph-sdk<0.3.0,>=0.2.2->langgraph) (1.0.9)\n",
            "Requirement already satisfied: idna in /usr/local/lib/python3.12/dist-packages (from httpx>=0.25.2->langgraph-sdk<0.3.0,>=0.2.2->langgraph) (3.10)\n",
            "Requirement already satisfied: h11>=0.16 in /usr/local/lib/python3.12/dist-packages (from httpcore==1.*->httpx>=0.25.2->langgraph-sdk<0.3.0,>=0.2.2->langgraph) (0.16.0)\n",
            "Requirement already satisfied: jsonpointer>=1.9 in /usr/local/lib/python3.12/dist-packages (from jsonpatch<2.0,>=1.33->langchain-core>=0.1->langgraph) (3.0.0)\n",
            "Requirement already satisfied: requests-toolbelt>=1.0.0 in /usr/local/lib/python3.12/dist-packages (from langsmith>=0.3.45->langchain-core>=0.1->langgraph) (1.0.0)\n",
            "Requirement already satisfied: requests>=2.0.0 in /usr/local/lib/python3.12/dist-packages (from langsmith>=0.3.45->langchain-core>=0.1->langgraph) (2.32.4)\n",
            "Requirement already satisfied: zstandard>=0.23.0 in /usr/local/lib/python3.12/dist-packages (from langsmith>=0.3.45->langchain-core>=0.1->langgraph) (0.24.0)\n",
            "Requirement already satisfied: charset_normalizer<4,>=2 in /usr/local/lib/python3.12/dist-packages (from requests>=2.0.0->langsmith>=0.3.45->langchain-core>=0.1->langgraph) (3.4.3)\n",
            "Requirement already satisfied: urllib3<3,>=1.21.1 in /usr/local/lib/python3.12/dist-packages (from requests>=2.0.0->langsmith>=0.3.45->langchain-core>=0.1->langgraph) (2.5.0)\n",
            "Requirement already satisfied: sniffio>=1.1 in /usr/local/lib/python3.12/dist-packages (from anyio->httpx>=0.25.2->langgraph-sdk<0.3.0,>=0.2.2->langgraph) (1.3.1)\n",
            "Requirement already satisfied: python-dotenv in /usr/local/lib/python3.12/dist-packages (1.1.1)\n",
            "Requirement already satisfied: langchain[groq] in /usr/local/lib/python3.12/dist-packages (0.3.27)\n",
            "Requirement already satisfied: langchain-core<1.0.0,>=0.3.72 in /usr/local/lib/python3.12/dist-packages (from langchain[groq]) (0.3.75)\n",
            "Requirement already satisfied: langchain-text-splitters<1.0.0,>=0.3.9 in /usr/local/lib/python3.12/dist-packages (from langchain[groq]) (0.3.11)\n",
            "Requirement already satisfied: langsmith>=0.1.17 in /usr/local/lib/python3.12/dist-packages (from langchain[groq]) (0.4.24)\n",
            "Requirement already satisfied: pydantic<3.0.0,>=2.7.4 in /usr/local/lib/python3.12/dist-packages (from langchain[groq]) (2.11.7)\n",
            "Requirement already satisfied: SQLAlchemy<3,>=1.4 in /usr/local/lib/python3.12/dist-packages (from langchain[groq]) (2.0.43)\n",
            "Requirement already satisfied: requests<3,>=2 in /usr/local/lib/python3.12/dist-packages (from langchain[groq]) (2.32.4)\n",
            "Requirement already satisfied: PyYAML>=5.3 in /usr/local/lib/python3.12/dist-packages (from langchain[groq]) (6.0.2)\n",
            "Requirement already satisfied: langchain-groq in /usr/local/lib/python3.12/dist-packages (from langchain[groq]) (0.3.8)\n",
            "Requirement already satisfied: tenacity!=8.4.0,<10.0.0,>=8.1.0 in /usr/local/lib/python3.12/dist-packages (from langchain-core<1.0.0,>=0.3.72->langchain[groq]) (8.5.0)\n",
            "Requirement already satisfied: jsonpatch<2.0,>=1.33 in /usr/local/lib/python3.12/dist-packages (from langchain-core<1.0.0,>=0.3.72->langchain[groq]) (1.33)\n",
            "Requirement already satisfied: typing-extensions>=4.7 in /usr/local/lib/python3.12/dist-packages (from langchain-core<1.0.0,>=0.3.72->langchain[groq]) (4.15.0)\n",
            "Requirement already satisfied: packaging>=23.2 in /usr/local/lib/python3.12/dist-packages (from langchain-core<1.0.0,>=0.3.72->langchain[groq]) (25.0)\n",
            "Requirement already satisfied: httpx<1,>=0.23.0 in /usr/local/lib/python3.12/dist-packages (from langsmith>=0.1.17->langchain[groq]) (0.28.1)\n",
            "Requirement already satisfied: orjson>=3.9.14 in /usr/local/lib/python3.12/dist-packages (from langsmith>=0.1.17->langchain[groq]) (3.11.3)\n",
            "Requirement already satisfied: requests-toolbelt>=1.0.0 in /usr/local/lib/python3.12/dist-packages (from langsmith>=0.1.17->langchain[groq]) (1.0.0)\n",
            "Requirement already satisfied: zstandard>=0.23.0 in /usr/local/lib/python3.12/dist-packages (from langsmith>=0.1.17->langchain[groq]) (0.24.0)\n",
            "Requirement already satisfied: annotated-types>=0.6.0 in /usr/local/lib/python3.12/dist-packages (from pydantic<3.0.0,>=2.7.4->langchain[groq]) (0.7.0)\n",
            "Requirement already satisfied: pydantic-core==2.33.2 in /usr/local/lib/python3.12/dist-packages (from pydantic<3.0.0,>=2.7.4->langchain[groq]) (2.33.2)\n",
            "Requirement already satisfied: typing-inspection>=0.4.0 in /usr/local/lib/python3.12/dist-packages (from pydantic<3.0.0,>=2.7.4->langchain[groq]) (0.4.1)\n",
            "Requirement already satisfied: charset_normalizer<4,>=2 in /usr/local/lib/python3.12/dist-packages (from requests<3,>=2->langchain[groq]) (3.4.3)\n",
            "Requirement already satisfied: idna<4,>=2.5 in /usr/local/lib/python3.12/dist-packages (from requests<3,>=2->langchain[groq]) (3.10)\n",
            "Requirement already satisfied: urllib3<3,>=1.21.1 in /usr/local/lib/python3.12/dist-packages (from requests<3,>=2->langchain[groq]) (2.5.0)\n",
            "Requirement already satisfied: certifi>=2017.4.17 in /usr/local/lib/python3.12/dist-packages (from requests<3,>=2->langchain[groq]) (2025.8.3)\n",
            "Requirement already satisfied: greenlet>=1 in /usr/local/lib/python3.12/dist-packages (from SQLAlchemy<3,>=1.4->langchain[groq]) (3.2.4)\n",
            "Requirement already satisfied: groq<1,>=0.30.0 in /usr/local/lib/python3.12/dist-packages (from langchain-groq->langchain[groq]) (0.31.1)\n",
            "Requirement already satisfied: anyio<5,>=3.5.0 in /usr/local/lib/python3.12/dist-packages (from groq<1,>=0.30.0->langchain-groq->langchain[groq]) (4.10.0)\n",
            "Requirement already satisfied: distro<2,>=1.7.0 in /usr/local/lib/python3.12/dist-packages (from groq<1,>=0.30.0->langchain-groq->langchain[groq]) (1.9.0)\n",
            "Requirement already satisfied: sniffio in /usr/local/lib/python3.12/dist-packages (from groq<1,>=0.30.0->langchain-groq->langchain[groq]) (1.3.1)\n",
            "Requirement already satisfied: httpcore==1.* in /usr/local/lib/python3.12/dist-packages (from httpx<1,>=0.23.0->langsmith>=0.1.17->langchain[groq]) (1.0.9)\n",
            "Requirement already satisfied: h11>=0.16 in /usr/local/lib/python3.12/dist-packages (from httpcore==1.*->httpx<1,>=0.23.0->langsmith>=0.1.17->langchain[groq]) (0.16.0)\n",
            "Requirement already satisfied: jsonpointer>=1.9 in /usr/local/lib/python3.12/dist-packages (from jsonpatch<2.0,>=1.33->langchain-core<1.0.0,>=0.3.72->langchain[groq]) (3.0.0)\n"
          ]
        }
      ],
      "source": [
        "!pip install langgraph\n",
        "!pip install python-dotenv langchain[groq]"
      ]
    },
    {
      "cell_type": "code",
      "source": [
        "from google.colab import userdata\n",
        "import os\n",
        "\n",
        "os.environ[\"GROQ_API_KEY\"] = userdata.get('GROQ_KEY')"
      ],
      "metadata": {
        "id": "tw2kpWr2ylAp"
      },
      "execution_count": 19,
      "outputs": []
    },
    {
      "cell_type": "code",
      "source": [
        "from langchain.chat_models import init_chat_model\n",
        "\n",
        "model = init_chat_model(\"llama-3.1-8b-instant\", model_provider=\"groq\")"
      ],
      "metadata": {
        "id": "DqGyU0Xkzrvs"
      },
      "execution_count": 20,
      "outputs": []
    },
    {
      "cell_type": "code",
      "source": [
        "response = model.invoke(\"Hello, explain me CNN!\")"
      ],
      "metadata": {
        "id": "xMhspzRszsPH"
      },
      "execution_count": 21,
      "outputs": []
    },
    {
      "cell_type": "code",
      "source": [
        "response.content"
      ],
      "metadata": {
        "colab": {
          "base_uri": "https://localhost:8080/",
          "height": 123
        },
        "id": "hSPAL4s9zu7S",
        "outputId": "24dedf50-dd12-4a24-a731-87f191cb43dc"
      },
      "execution_count": 22,
      "outputs": [
        {
          "output_type": "execute_result",
          "data": {
            "text/plain": [
              "\"**Convolutional Neural Networks (CNNs)**\\n\\nConvolutional Neural Networks (CNNs) are a type of deep learning algorithm that is particularly well-suited for image and video classification tasks. They are inspired by the structure and function of the visual cortex in the human brain.\\n\\n**Key Components:**\\n\\n1. **Convolutional Layers**: These layers apply filters to small regions of the input data, known as receptive fields. The filters slide over the input data, computing a dot product at each position, and the result is a set of feature maps.\\n2. **Activation Functions**: These functions are applied to the output of the convolutional layers to introduce non-linearity and enable the network to learn more complex patterns.\\n3. **Pooling Layers**: These layers downsample the feature maps, reducing the spatial dimensions while retaining the most important information.\\n4. **Flatten Layers**: These layers reshape the output of the pooling layers into a one-dimensional array, which is then fed into a fully connected layer.\\n5. **Fully Connected Layers**: These layers are traditional neural network layers that take the flattened output and produce a probability distribution over the classes.\\n\\n**How CNNs Work:**\\n\\n1. **Input**: The input is an image, which is fed into the convolutional layer.\\n2. **Convolution**: The convolutional layer applies filters to small regions of the input data, computing a dot product at each position.\\n3. **Activation**: The activation function is applied to the output of the convolutional layer, introducing non-linearity.\\n4. **Pooling**: The pooling layer downsamples the feature maps, reducing the spatial dimensions while retaining the most important information.\\n5. **Flatten**: The flatten layer reshapes the output of the pooling layer into a one-dimensional array.\\n6. **Fully Connected**: The fully connected layer takes the flattened output and produces a probability distribution over the classes.\\n7. **Output**: The final output is a probability distribution over the classes, which can be used for classification.\\n\\n**Advantages:**\\n\\n1. **Robustness to Translation**: CNNs are robust to translation, meaning that they can recognize objects even if they are shifted within the image.\\n2. **Robustness to Scale**: CNNs are robust to scale, meaning that they can recognize objects even if they are resized.\\n3. **Robustness to Rotation**: CNNs are robust to rotation, meaning that they can recognize objects even if they are rotated.\\n\\n**Use Cases:**\\n\\n1. **Image Classification**: CNNs are widely used for image classification tasks, such as recognizing objects in images.\\n2. **Object Detection**: CNNs are used for object detection tasks, such as detecting pedestrians, cars, and other objects in images.\\n3. **Image Segmentation**: CNNs are used for image segmentation tasks, such as segmenting images into different parts.\\n\\n**Code Example:**\\n\\nHere's an example of a CNN implemented in PyTorch:\\n```python\\nimport torch\\nimport torch.nn as nn\\nimport torch.optim as optim\\n\\nclass CNN(nn.Module):\\n    def __init__(self):\\n        super(CNN, self).__init__()\\n        self.conv1 = nn.Conv2d(1, 6, 5)\\n        self.pool = nn.MaxPool2d(2, 2)\\n        self.conv2 = nn.Conv2d(6, 16, 5)\\n        self.fc1 = nn.Linear(16 * 5 * 5, 120)\\n        self.fc2 = nn.Linear(120, 84)\\n        self.fc3 = nn.Linear(84, 10)\\n\\n    def forward(self, x):\\n        x = self.pool(nn.functional.relu(self.conv1(x)))\\n        x = self.pool(nn.functional.relu(self.conv2(x)))\\n        x = x.view(-1, 16 * 5 * 5)\\n        x = nn.functional.relu(self.fc1(x))\\n        x = nn.functional.relu(self.fc2(x))\\n        x = self.fc3(x)\\n        return x\\n\\ncnn = CNN()\\n```\\nThis is a basic example of a CNN implemented in PyTorch. The `CNN` class defines a Convolutional Neural Network with two convolutional layers, two fully connected layers, and a final output layer. The `forward` method defines the forward pass through the network.\\n\\nNote that this is a simplified example and may not be suitable for real-world applications. In practice, you may need to add more layers, regularizers, and optimizers to achieve good performance.\""
            ],
            "application/vnd.google.colaboratory.intrinsic+json": {
              "type": "string"
            }
          },
          "metadata": {},
          "execution_count": 22
        }
      ]
    },
    {
      "cell_type": "markdown",
      "source": [
        "# LangChain"
      ],
      "metadata": {
        "id": "ZCjWHnsO0Ni8"
      }
    },
    {
      "cell_type": "code",
      "source": [
        "\n",
        "# --- Imports and Setup ---\n",
        "import os\n",
        "from google.colab import userdata\n",
        "from langchain.chat_models import init_chat_model\n",
        "from langgraph.graph import StateGraph\n",
        "from langchain_core.prompts import ChatPromptTemplate\n",
        "from langchain_core.output_parsers import StrOutputParser\n",
        "\n",
        "# Set API key\n",
        "os.environ[\"GROQ_API_KEY\"] = userdata.get('GROQ_KEY')\n",
        "\n",
        "# Initialize LLM model\n",
        "model = init_chat_model(\"llama-3.1-8b-instant\", model_provider=\"groq\")\n",
        "\n",
        "\n",
        "# --- LangGraph Workflow Example ---\n",
        "\n",
        "# Define node functions\n",
        "def func1(inp: dict) -> dict:\n",
        "    return {\"result\": inp[\"x\"] + inp[\"y\"]}\n",
        "\n",
        "def func2(inp: dict) -> dict:\n",
        "    return {\"result\": 2 * inp[\"result\"]}\n",
        "\n",
        "# Build workflow graph\n",
        "workflow = StateGraph(dict)\n",
        "workflow.add_node(\"add\", func1)\n",
        "workflow.add_node(\"double\", func2)\n",
        "workflow.add_edge(\"add\", \"double\")\n",
        "workflow.set_entry_point(\"add\")\n",
        "workflow.set_finish_point(\"double\")\n",
        "\n",
        "# Compile and run graph\n",
        "app = workflow.compile()\n",
        "print(\"LangGraph output:\", app.invoke({\"x\": 10, \"y\": 5}))\n",
        "\n",
        "\n",
        "# --- LangChain Chains and Prompts ---\n",
        "\n",
        "# Prompt for travel destination\n",
        "destination_prompt = ChatPromptTemplate.from_template(\n",
        "    \"Suggest me name of a place in one word to travel in {country} in month {month}\"\n",
        ")\n",
        "\n",
        "# Destination chain\n",
        "destination_chain = destination_prompt | model | StrOutputParser()\n",
        "print(\"Suggested destination:\", destination_chain.invoke(\n",
        "    {\"country\": \"India\", \"month\": \"December\"}\n",
        "))\n",
        "\n",
        "# Prompt for travel itinerary\n",
        "itinerary_prompt = ChatPromptTemplate.from_template(\n",
        "    \"Give me 3 days itinerary for the place {destination}\"\n",
        ")\n",
        "\n",
        "# Composed chain: destination → itinerary\n",
        "itinerary_chain = {\"destination\": destination_chain} | itinerary_prompt | model | StrOutputParser()\n",
        "print(\"Itinerary:\", itinerary_chain.invoke({\"country\": \"India\", \"month\": \"June\"}))\n"
      ],
      "metadata": {
        "colab": {
          "base_uri": "https://localhost:8080/"
        },
        "id": "y43WBuWwzmt0",
        "outputId": "fa657fed-62ea-4691-8315-cbf8b2941d97"
      },
      "execution_count": 23,
      "outputs": [
        {
          "output_type": "stream",
          "name": "stdout",
          "text": [
            "LangGraph output: {'result': 30}\n",
            "Suggested destination: Considering the weather and festive atmosphere in India during December, I would suggest visiting 'MANALI'. \n",
            "\n",
            "Manali is a popular hill station in the state of Himachal Pradesh, known for its snow-capped mountains, lush forests, and serene rivers. In December, the weather is typically cold and snowy, making it an ideal destination for winter sports and activities like skiing, trekking, and ice skating. Additionally, the hill station offers a picturesque view of the snow-covered mountains and valleys, making it a perfect destination to escape the hustle and bustle of city life.\n",
            "Itinerary: Munnar is a great choice for a June trip, given its cooler climate. Here's a suggested 3-day itinerary for your trip to Munnar:\n",
            "\n",
            "**Day 1: Arrival and Exploration**\n",
            "\n",
            "- **Morning**: Arrive at Cochin International Airport or Ernakulam Railway Station and take a taxi or bus to Munnar (approximately 4 hours).\n",
            "- **10:00 AM**: Check-in at your hotel and freshen up. Start your day with a visit to **Mattupetty Dam**, a serene spot surrounded by tea plantations and rolling hills.\n",
            "- **12:00 PM**: Head to **Echo Point**, a scenic spot famous for its echo phenomenon. Enjoy the breathtaking views of the surrounding hills and valleys.\n",
            "- **2:00 PM**: Take a leisurely walk around **Munnar Town**, exploring its local markets and tea shops. Try some local cuisine and tea at one of the cafes.\n",
            "- **5:00 PM**: Visit **Tea Museum** to learn about the history and process of tea production in Munnar.\n",
            "- **8:00 PM**: Enjoy a relaxing evening at your hotel or take a stroll around the town.\n",
            "\n",
            "**Day 2: Adventure and Exploration**\n",
            "\n",
            "- **8:00 AM**: Start the day with a **Trek to Anamudi Peak** (optional, but not recommended in June due to heavy rain). If you choose not to trek, visit **Pothanmedu View Point** instead.\n",
            "- **11:00 AM**: Head to **Rajamalai**, a popular spot for wildlife sightings. Take a guided tour to spot Nilgiri Tahr, a rare species of mountain goat.\n",
            "- **1:00 PM**: Have lunch at a local restaurant and try some of the local specialties.\n",
            "- **2:30 PM**: Visit **Devikulam Lake**, a serene lake surrounded by hills and forests. Take a leisurely walk around the lake and enjoy the scenic views.\n",
            "- **6:00 PM**: Return to your hotel for a relaxing evening.\n",
            "\n",
            "**Day 3: Scenic Drives and Waterfalls**\n",
            "\n",
            "- **8:00 AM**: Start the day with a scenic drive to **Kundala Lake** (approximately 1 hour). Enjoy the breathtaking views of the surrounding hills and valleys.\n",
            "- **10:00 AM**: Visit **Kundala Dam** and take a leisurely walk around the lake.\n",
            "- **12:00 PM**: Head to **Cheeyappara Waterfalls**, a scenic spot surrounded by tea plantations and rolling hills. Enjoy a picnic lunch near the waterfalls.\n",
            "- **2:30 PM**: Return to your hotel and spend the rest of the day relaxing or exploring the town.\n",
            "- **6:00 PM**: Depart for Cochin or your next destination.\n",
            "\n",
            "**Tips and Recommendations**:\n",
            "\n",
            "- Check the weather forecast before your trip and pack accordingly.\n",
            "- Wear comfortable shoes and clothes for trekking and walking.\n",
            "- Bring sunscreen, hats, and sunglasses to protect yourself from the sun.\n",
            "- Try local cuisine and tea to experience the flavors of Munnar.\n",
            "- Respect the local environment and wildlife.\n",
            "\n",
            "This itinerary provides a mix of adventure, exploration, and relaxation, and is suitable for a June trip to Munnar. However, feel free to customize it based on your interests and preferences.\n"
          ]
        }
      ]
    },
    {
      "cell_type": "markdown",
      "source": [
        "# LangGraph"
      ],
      "metadata": {
        "id": "mXJdL2sw0Ros"
      }
    },
    {
      "cell_type": "code",
      "source": [
        "\n",
        "# --- Imports and Setup ---\n",
        "import os\n",
        "from google.colab import userdata\n",
        "from langchain.chat_models import init_chat_model\n",
        "from langgraph.graph import StateGraph\n",
        "from IPython.display import Image, display\n",
        "from langchain_core.prompts import ChatPromptTemplate\n",
        "from langchain_core.output_parsers import StrOutputParser\n",
        "\n",
        "# Set API key\n",
        "os.environ[\"GROQ_API_KEY\"] = userdata.get('GROQ_KEY')\n",
        "\n",
        "# Initialize model\n",
        "model = init_chat_model(\"llama-3.1-8b-instant\", model_provider=\"groq\")\n",
        "\n",
        "\n",
        "# --- LangGraph Section ---\n",
        "def add_numbers(inp: dict) -> dict:\n",
        "    \"\"\"Adds two numbers from input dict.\"\"\"\n",
        "    return {\"result\": inp[\"x\"] + inp[\"y\"]}\n",
        "\n",
        "def double_result(inp: dict) -> dict:\n",
        "    \"\"\"Doubles the previous result.\"\"\"\n",
        "    return {\"result\": 2 * inp[\"result\"]}\n",
        "\n",
        "# Build workflow\n",
        "workflow = StateGraph(dict)\n",
        "workflow.add_node(\"add\", add_numbers)\n",
        "workflow.add_node(\"double\", double_result)\n",
        "workflow.add_edge(\"add\", \"double\")\n",
        "workflow.set_entry_point(\"add\")\n",
        "workflow.set_finish_point(\"double\")\n",
        "\n",
        "# Compile and run graph\n",
        "app = workflow.compile()\n",
        "print(\"LangGraph result:\", app.invoke({\"x\": 10, \"y\": 5}))\n",
        "\n",
        "# Visualize graph (optional)\n",
        "try:\n",
        "    display(Image(app.get_graph().draw_mermaid_png()))\n",
        "except Exception:\n",
        "    pass\n",
        "\n",
        "\n",
        "# --- LangChain Section ---\n",
        "# Prompt for travel destination\n",
        "destination_prompt = ChatPromptTemplate.from_template(\n",
        "    \"Suggest me name of a place in one word to travel in {country} in month {month}\"\n",
        ")\n",
        "\n",
        "# Chain for travel destination\n",
        "destination_chain = destination_prompt | model | StrOutputParser()\n",
        "destination = destination_chain.invoke({\"country\": \"India\", \"month\": \"December\"})\n",
        "print(\"Suggested destination:\", destination)\n",
        "\n",
        "# Prompt for itinerary\n",
        "itinerary_prompt = ChatPromptTemplate.from_template(\n",
        "    \"Give me 3 days itinerary for the place {destination}\"\n",
        ")\n",
        "\n",
        "# Composed chain: destination → itinerary\n",
        "itinerary_chain = {\"destination\": destination_chain} | itinerary_prompt | model | StrOutputParser()\n",
        "itinerary = itinerary_chain.invoke({\"country\": \"India\", \"month\": \"June\"})\n",
        "print(\"Itinerary:\", itinerary)\n"
      ],
      "metadata": {
        "colab": {
          "base_uri": "https://localhost:8080/",
          "height": 960
        },
        "id": "4crdh-ym0T5j",
        "outputId": "7612dbb1-393a-44a8-cec3-b6b33e4a9687"
      },
      "execution_count": 24,
      "outputs": [
        {
          "output_type": "stream",
          "name": "stdout",
          "text": [
            "LangGraph result: {'result': 30}\n"
          ]
        },
        {
          "output_type": "display_data",
          "data": {
            "image/png": "[encoded data removed]",
            "text/plain": [
              "<IPython.core.display.Image object>"
            ]
          },
          "metadata": {}
        },
        {
          "output_type": "stream",
          "name": "stdout",
          "text": [
            "Suggested destination: One word suggestion for a place to travel in India in December is: \n",
            "\n",
            "**Shimla** \n",
            "\n",
            "Shimla is a popular hill station in the state of Himachal Pradesh. December is an ideal time to visit Shimla as the weather is cold and snowfall is common, making it a perfect destination for winter sports and a relaxing getaway.\n",
            "Itinerary: Based on your preferences for a pleasant climate, relatively cooler temperatures, and scenic beauty, I recommend **Manali** as the best destination for a 3-day itinerary. Here's a suggested itinerary for you:\n",
            "\n",
            "**Day 1:**\n",
            "\n",
            "* Morning: Start your day with a visit to the **Hadimba Temple**, a wooden temple dedicated to the goddess Hadimba. Explore the surrounding forest and enjoy the peaceful atmosphere.\n",
            "* Afternoon: Visit the **Manali Mall Road**, a bustling marketplace where you can shop for local handicrafts and try some delicious local cuisine.\n",
            "* Evenings: Take a leisurely walk along the **Manali River** and enjoy the scenic views of the surrounding mountains.\n",
            "\n",
            "**Day 2:**\n",
            "\n",
            "* Morning: Embark on a trek to the **Rohtang Pass**, a high-altitude mountain pass with breathtaking views of the surrounding landscape. Enjoy the stunning scenery and take in the cool mountain air.\n",
            "* Afternoon: Visit the **Manali Sanctuary**, a protected area that is home to a variety of flora and fauna. Take a guided tour and learn about the local wildlife.\n",
            "* Evenings: Enjoy a relaxing evening at your hotel or try some local cuisine at a nearby restaurant.\n",
            "\n",
            "**Day 3:**\n",
            "\n",
            "* Morning: Visit the **Vashisht Temple**, a historic temple dedicated to the sage Vashisht. Explore the surrounding village and enjoy the scenic views of the surrounding mountains.\n",
            "* Afternoon: Take a trip to the **Solang Valley**, a picturesque valley with breathtaking views of the surrounding mountains. Enjoy the scenic views and take in the cool mountain air.\n",
            "* Evenings: Return to your hotel and enjoy a comfortable stay.\n",
            "\n",
            "**Tips and Recommendations:**\n",
            "\n",
            "* Make sure to pack warm clothing for the evenings, as it can get chilly even in June.\n",
            "* Book your accommodations and trekking tours in advance to avoid any last-minute hassles.\n",
            "* Try some local cuisine, such as momos and thukpa, which are popular in Manali.\n",
            "* Don't forget to try some adventure activities, such as paragliding and river rafting, for an adrenaline rush.\n",
            "\n",
            "Overall, Manali is an ideal destination for a 3-day itinerary, with its pleasant climate, scenic beauty, and plenty of outdoor activities to enjoy.\n"
          ]
        }
      ]
    }
  ]
}