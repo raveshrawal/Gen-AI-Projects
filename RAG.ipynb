{
  "cells": [
    {
      "cell_type": "markdown",
      "metadata": {
        "id": "uRdoUvzW7-An"
      },
      "source": [
        "### ChromaDB"
      ]
    },
    {
      "cell_type": "code",
      "execution_count": null,
      "metadata": {
        "id": "bYOVcEXP7-Au"
      },
      "outputs": [],
      "source": [
        "pip install chromadb"
      ]
    },
    {
      "cell_type": "code",
      "execution_count": null,
      "metadata": {
        "id": "fTdrr_M-7-Ay"
      },
      "outputs": [],
      "source": [
        "import chromadb\n",
        "client = chromadb.PersistentClient(path=\"./chroma_db\")"
      ]
    },
    {
      "cell_type": "code",
      "execution_count": null,
      "metadata": {
        "id": "8yFE8CgI7-A0"
      },
      "outputs": [],
      "source": [
        "collection = client.create_collection(name=\"collection1\")\n",
        "\n",
        "# Insert sample data (ID, embeddings, metadata)\n",
        "collection.add(\n",
        "    ids=[\"1\", \"2\", \"3\"],\n",
        "    embeddings=[[0.1, 0.2, 0.3], [0.2, 0.3, 0.4], [0.3, 0.4, 0.5]],\n",
        "    metadatas=[{\"name\": \"Keerti\"}, {\"name\": \"Amit\"}, {\"name\": \"Educosys\"}]\n",
        ")"
      ]
    },
    {
      "cell_type": "code",
      "execution_count": null,
      "metadata": {
        "id": "pe7LQNkY7-A3"
      },
      "outputs": [],
      "source": [
        "print(\"Available Collections:\", client.list_collections())"
      ]
    },
    {
      "cell_type": "code",
      "execution_count": null,
      "metadata": {
        "id": "FRaMlyjn7-A4"
      },
      "outputs": [],
      "source": [
        "print(\"Fetching data with ID 1:\", collection.get(ids=[\"2\"]))"
      ]
    },
    {
      "cell_type": "code",
      "execution_count": null,
      "metadata": {
        "id": "F0A0oizJ7-A5"
      },
      "outputs": [],
      "source": [
        "print(\"Fetching data with ID 1:\", collection.get(ids=[\"2\"], include=[\"embeddings\", \"metadatas\"]))"
      ]
    },
    {
      "cell_type": "code",
      "execution_count": null,
      "metadata": {
        "id": "5gR0ZLm47-A6"
      },
      "outputs": [],
      "source": [
        "collection.add(\n",
        "    ids=[\"4\"],\n",
        "    embeddings=[[0.1, 0.2, 0.3]],\n",
        "    documents=[\"Someone is a software engineer with 5 years of experience.\"]\n",
        ")"
      ]
    },
    {
      "cell_type": "code",
      "execution_count": null,
      "metadata": {
        "id": "f1vk9Mko7-A6"
      },
      "outputs": [],
      "source": [
        "collection.query(\n",
        "    query_embeddings=[[0.3, 0.4, 0.5]],\n",
        "    n_results=2,\n",
        "    include=[\"documents\"]\n",
        ")"
      ]
    },
    {
      "cell_type": "code",
      "execution_count": null,
      "metadata": {
        "id": "L5uw3T327-A9"
      },
      "outputs": [],
      "source": [
        "collection.update(\n",
        "    ids=[\"2\"],\n",
        "    embeddings=[[0.5, 0.5, 0.5]],\n",
        "    metadatas=[{\"name\": \"Bob Updated\"}]\n",
        ")\n",
        "print(\"Updated Entry:\", collection.get(ids=[\"2\"]))"
      ]
    },
    {
      "cell_type": "code",
      "execution_count": null,
      "metadata": {
        "id": "Xpfd4DS37-A_"
      },
      "outputs": [],
      "source": [
        "print(\"Fetching data with ID 1:\", collection.get(ids=[\"2\"]))"
      ]
    },
    {
      "cell_type": "code",
      "execution_count": null,
      "metadata": {
        "id": "YyDP9nr67-BA"
      },
      "outputs": [],
      "source": [
        "collection.delete(ids=[\"3\"])\n",
        "print(\"After Deletion:\", collection.get(ids=[\"3\"]))"
      ]
    },
    {
      "cell_type": "code",
      "execution_count": null,
      "metadata": {
        "id": "Esaf259w7-BC"
      },
      "outputs": [],
      "source": [
        "for collection in client.list_collections():\n",
        "    client.delete_collection(collection.name)"
      ]
    },
    {
      "cell_type": "code",
      "execution_count": null,
      "metadata": {
        "id": "_bfTh2Qx7-BC"
      },
      "outputs": [],
      "source": [
        "print(\"Available Collections:\", client.list_collections())"
      ]
    },
    {
      "cell_type": "markdown",
      "metadata": {
        "id": "gI3G9rAI7-BE"
      },
      "source": [
        "### **_OpenAI Embeddings_**"
      ]
    },
    {
      "cell_type": "code",
      "execution_count": null,
      "metadata": {
        "id": "ZeCM0V-p7-BE"
      },
      "outputs": [],
      "source": [
        "!pip install groq"
      ]
    },
    {
      "cell_type": "code",
      "execution_count": null,
      "metadata": {
        "id": "-UIbUAnf7-BG"
      },
      "outputs": [],
      "source": [
        "client = chromadb.PersistentClient(path=\"./chroma_db\")  # This persists data\n",
        "collection = client.get_or_create_collection(name=\"collection2\")"
      ]
    },
    {
      "cell_type": "code",
      "execution_count": null,
      "metadata": {
        "id": "alEm8mkQ7-BG"
      },
      "outputs": [],
      "source": [
        "from dotenv import load_dotenv\n",
        "\n",
        "load_dotenv()  # Load environment variables from .env file\n",
        "\n",
        "import os\n",
        "api_key = os.getenv('GROQ_KEY')  # Retrieve the key"
      ]
    },
    {
      "cell_type": "code",
      "execution_count": null,
      "metadata": {
        "id": "ko4IKik57-BH"
      },
      "outputs": [],
      "source": [
        "from groq import Groq\n",
        "import os\n",
        "\n",
        "def get_groq_embedding(text):\n",
        "    client = Groq(api_key=os.getenv(\"GROQ_KEY\")) # Use Groq client with the API key\n",
        "    response = client.embeddings.create(input=[text], model=\"nomic-embed-text-v1.5\") # Use a suitable Groq embedding model\n",
        "    return response.data[0].embedding"
      ]
    },
    {
      "cell_type": "code",
      "execution_count": null,
      "metadata": {
        "id": "SpmEB6Qm7-BH"
      },
      "outputs": [],
      "source": [
        "documents = [\n",
        "    \"The Eiffel Tower is located in Paris.\",\n",
        "    \"The Colosseum is in Rome, Italy.\",\n",
        "    \"The Taj Mahal is a famous monument in India.\",\n",
        "    \"Mount Everest is the highest mountain in the world.\",\n",
        "    \"Python is a popular programming language.\"\n",
        "]\n",
        "\n",
        "# Convert documents to embeddings\n",
        "embeddings = [get_groq_embedding(doc) for doc in documents]\n",
        "\n",
        "# Insert into ChromaDB\n",
        "collection.add(\n",
        "    ids=[str(i) for i in range(len(documents))],  # Unique IDs\n",
        "    documents=documents,\n",
        "    embeddings=embeddings\n",
        ")\n",
        "\n",
        "print(\"Data added successfully!\")"
      ]
    },
    {
      "cell_type": "code",
      "execution_count": null,
      "metadata": {
        "id": "4D2M_LoJ7-BJ"
      },
      "outputs": [],
      "source": [
        "query_text = \"Where is the Eiffel Tower?\"\n",
        "query_embedding = get_openai_embedding(query_text)\n",
        "\n",
        "results = collection.query(\n",
        "    query_embeddings=[query_embedding],\n",
        "    n_results=2,  # Get top 2 matches\n",
        "    include=[\"documents\", \"distances\"]\n",
        ")\n",
        "\n",
        "print(\"Query:\", query_text)\n",
        "print(\"Most Similar Result:\", results[\"documents\"][0])\n",
        "print(\"Distance:\", results[\"distances\"][0])"
      ]
    },
    {
      "cell_type": "code",
      "execution_count": null,
      "metadata": {
        "id": "38t6jw2A7-BJ"
      },
      "outputs": [],
      "source": [
        "updated_text = \"The Eiffel Tower is one of the most visited landmarks in the world.\"\n",
        "updated_embedding = get_openai_embedding(updated_text)\n",
        "\n",
        "collection.update(\n",
        "    ids=[\"0\"],  # ID of the document to update\n",
        "    documents=[updated_text],\n",
        "    embeddings=[updated_embedding]\n",
        ")\n",
        "\n",
        "print(\"Data updated successfully!\")"
      ]
    },
    {
      "cell_type": "code",
      "execution_count": null,
      "metadata": {
        "id": "Rvxr3jFB7-BL"
      },
      "outputs": [],
      "source": [
        "query_text = \"Where is the Eiffel Tower?\"\n",
        "query_embedding = get_openai_embedding(query_text)\n",
        "\n",
        "results = collection.query(\n",
        "    query_embeddings=[query_embedding],\n",
        "    n_results=2,  # Get top 2 matches\n",
        "    include=[\"documents\", \"distances\"]\n",
        ")\n",
        "\n",
        "print(\"Query:\", query_text)\n",
        "print(\"Most Similar Result:\", results[\"documents\"][0])\n",
        "print(\"Distance:\", results[\"distances\"][0])"
      ]
    },
    {
      "cell_type": "code",
      "execution_count": null,
      "metadata": {
        "id": "abxKPBvm7-BM"
      },
      "outputs": [],
      "source": [
        "tower_ht_text = \"Eiffel Tower is 330 tall.\"\n",
        "\n",
        "collection.add(\n",
        "    ids=[\"6\"],\n",
        "    embeddings=get_openai_embedding(tower_ht_text),\n",
        "    documents=tower_ht_text\n",
        ")"
      ]
    },
    {
      "cell_type": "code",
      "execution_count": null,
      "metadata": {
        "id": "nV6GBaE27-BN"
      },
      "outputs": [],
      "source": [
        "query_text = \"Where is the Eiffel Tower?\"\n",
        "query_embedding = get_openai_embedding(query_text)\n",
        "\n",
        "results = collection.query(\n",
        "    query_embeddings=[query_embedding],\n",
        "    n_results=2,  # Get top 2 matches\n",
        "    include=[\"documents\", \"distances\"]\n",
        ")\n",
        "\n",
        "print(\"Query:\", query_text)\n",
        "print(\"Most Similar Result:\", results[\"documents\"][0])\n",
        "print(\"Distance:\", results[\"distances\"][0])"
      ]
    },
    {
      "cell_type": "code",
      "execution_count": null,
      "metadata": {
        "id": "vZ8IoCDU7-BO"
      },
      "outputs": [],
      "source": [
        "collection.delete(ids=[\"0\"])  # Delete document with ID \"0\"\n",
        "print(\"Data deleted successfully! ❌\")"
      ]
    },
    {
      "cell_type": "code",
      "execution_count": null,
      "metadata": {
        "id": "SWOwLwJd7-BP"
      },
      "outputs": [],
      "source": [
        "query_text = \"Where is the Eiffel Tower?\"\n",
        "query_embedding = get_openai_embedding(query_text)\n",
        "\n",
        "results = collection.query(\n",
        "    query_embeddings=[query_embedding],\n",
        "    n_results=2,  # Get top 2 matches\n",
        "    include=[\"documents\", \"distances\"]\n",
        ")\n",
        "\n",
        "print(\"Query:\", query_text)\n",
        "print(\"Most Similar Result:\", results[\"documents\"][0])\n",
        "print(\"Distance:\", results[\"distances\"][0])"
      ]
    },
    {
      "cell_type": "markdown",
      "metadata": {
        "id": "68VbknAu7-BQ"
      },
      "source": [
        "### **RAG**"
      ]
    },
    {
      "cell_type": "code",
      "execution_count": null,
      "metadata": {
        "id": "4958abrB7-BR"
      },
      "outputs": [],
      "source": [
        "from dotenv import load_dotenv\n",
        "\n",
        "load_dotenv()  # Load environment variables from .env file\n",
        "\n",
        "import os\n",
        "os.getenv('OPENAI_API_KEY')\n",
        "os.getenv('LANGCHAIN_TRACING_V2')\n",
        "os.getenv('LANGCHAIN_API_KEY')\n",
        "os.getenv('LANGSMITH_PROJECT')"
      ]
    },
    {
      "cell_type": "code",
      "execution_count": null,
      "metadata": {
        "id": "rqKF-KvD7-BS"
      },
      "outputs": [],
      "source": [
        "!pip install langchain_community langchain-openai langchainhub chromadb langchain"
      ]
    },
    {
      "cell_type": "code",
      "execution_count": null,
      "metadata": {
        "id": "6fyhSb-A7-BT"
      },
      "outputs": [],
      "source": [
        "from langchain_community.document_loaders import WebBaseLoader\n",
        "\n",
        "loader = WebBaseLoader(\n",
        "    web_paths=[\"https://www.educosys.com/course/genai\"]\n",
        ")\n",
        "docs = loader.load()\n",
        "print(docs)"
      ]
    },
    {
      "cell_type": "code",
      "execution_count": null,
      "metadata": {
        "id": "ipFO3Rv87-BU"
      },
      "outputs": [],
      "source": [
        "from langchain.text_splitter import RecursiveCharacterTextSplitter\n",
        "\n",
        "# Split\n",
        "# Overlap of 200 characters to maintain context across chunks\n",
        "text_splitter = RecursiveCharacterTextSplitter(chunk_size=1000, chunk_overlap=200)\n",
        "splits = text_splitter.split_documents(docs)"
      ]
    },
    {
      "cell_type": "code",
      "execution_count": null,
      "metadata": {
        "id": "G43VZN1a7-BW"
      },
      "outputs": [],
      "source": [
        "print(splits[0])\n",
        "print(splits[1])\n",
        "print(splits[2])"
      ]
    },
    {
      "cell_type": "code",
      "execution_count": null,
      "metadata": {
        "id": "FHuImjG97-BX"
      },
      "outputs": [],
      "source": [
        "from langchain_community.vectorstores import Chroma\n",
        "from langchain_openai import OpenAIEmbeddings\n",
        "\n",
        "vectorstore = Chroma.from_documents(documents=splits,\n",
        "                                    embedding=OpenAIEmbeddings())"
      ]
    },
    {
      "cell_type": "code",
      "execution_count": null,
      "metadata": {
        "id": "oT_5eUat7-BY"
      },
      "outputs": [],
      "source": [
        "print(vectorstore._collection.count())  # Check total stored chunks"
      ]
    },
    {
      "cell_type": "code",
      "execution_count": null,
      "metadata": {
        "id": "jzdJHhxn7-BZ"
      },
      "outputs": [],
      "source": [
        "print(vectorstore._collection.get())"
      ]
    },
    {
      "cell_type": "code",
      "execution_count": null,
      "metadata": {
        "id": "EDAXgAe27-Ba"
      },
      "outputs": [],
      "source": [
        "print('\\nCollection 1 - ', vectorstore._collection.get(ids=['1829471b-ca21-4bf7-a225-33eb8c5278ca'], include=[\"embeddings\", \"documents\"]))\n",
        "print('\\nCollection 2 - ', vectorstore._collection.get(ids=['9f657e1b-cdc1-4b3c-bfac-161c0177ca0f'], include=[\"embeddings\", \"documents\"]))\n",
        "print('\\nCollection 3 - ', vectorstore._collection.get(ids=['67062071-3860-481b-9355-711117d658ad'], include=[\"embeddings\", \"documents\"]))\n",
        "print('\\nCollection 4 - ', vectorstore._collection.get(ids=['7221ceda-f647-42e0-872c-f3ad210d0a0a'], include=[\"embeddings\", \"documents\"]))"
      ]
    },
    {
      "cell_type": "code",
      "execution_count": null,
      "metadata": {
        "id": "QRREnr8l7-Bb"
      },
      "outputs": [],
      "source": [
        "retriever = vectorstore.as_retriever()"
      ]
    },
    {
      "cell_type": "code",
      "execution_count": null,
      "metadata": {
        "id": "oKH_TDZj7-Bc"
      },
      "outputs": [],
      "source": [
        "from langchain import hub\n",
        "# Prompt\n",
        "prompt = hub.pull(\"rlm/rag-prompt\") # pulls a predefined RAG prompt template from LangChain Hub"
      ]
    },
    {
      "cell_type": "code",
      "execution_count": null,
      "metadata": {
        "id": "93uLT6vR7-B-"
      },
      "outputs": [],
      "source": [
        "# You are an assistant for question-answering tasks. Use the following pieces of retrieved context to answer the question. If you don't know the answer, just say that you don't know. Use three sentences maximum and keep the answer concise.\n",
        "# Question: {question}\n",
        "# Context: {context}\n",
        "# Answer:"
      ]
    },
    {
      "cell_type": "code",
      "execution_count": null,
      "metadata": {
        "id": "WSLPtjQs7-B_"
      },
      "outputs": [],
      "source": [
        "from langchain_openai import ChatOpenAI\n",
        "llm = ChatOpenAI(model_name=\"gpt-3.5-turbo\")"
      ]
    },
    {
      "cell_type": "code",
      "execution_count": null,
      "metadata": {
        "id": "EPWJIJSJ7-B_"
      },
      "outputs": [],
      "source": [
        "from langchain_core.runnables import RunnablePassthrough\n",
        "from langchain_core.output_parsers import StrOutputParser"
      ]
    },
    {
      "cell_type": "code",
      "execution_count": null,
      "metadata": {
        "id": "8qLqeLx_7-CB"
      },
      "outputs": [],
      "source": [
        "def format_docs(docs):\n",
        "    return \"\\n\\n\".join(doc.page_content for doc in docs)"
      ]
    },
    {
      "cell_type": "code",
      "execution_count": null,
      "metadata": {
        "id": "BxGaeOZ17-CB"
      },
      "outputs": [],
      "source": [
        "rag_chain = ({\"context\" : retriever | format_docs, \"question\": RunnablePassthrough()}\n",
        "             | prompt\n",
        "             | llm\n",
        "             | StrOutputParser())\n"
      ]
    },
    {
      "cell_type": "code",
      "execution_count": null,
      "metadata": {
        "id": "nacUhIQf7-CC"
      },
      "outputs": [],
      "source": [
        "rag_chain.invoke(\"What are the timings of the genai course?\")"
      ]
    },
    {
      "cell_type": "code",
      "execution_count": null,
      "metadata": {
        "id": "1JtQ6dXl7-CD"
      },
      "outputs": [],
      "source": [
        "rag_chain.invoke(\"Give me the curriculum for week 1 for genai course\")"
      ]
    },
    {
      "cell_type": "code",
      "execution_count": null,
      "metadata": {
        "id": "w7ZgaNjM7-CE"
      },
      "outputs": [],
      "source": [
        "rag_chain.invoke(\"Are the recordings for the course available?\")"
      ]
    },
    {
      "cell_type": "code",
      "execution_count": null,
      "metadata": {
        "id": "qW2AEtGO7-CF"
      },
      "outputs": [],
      "source": [
        "from langchain_core.runnables import RunnableLambda"
      ]
    },
    {
      "cell_type": "code",
      "execution_count": null,
      "metadata": {
        "id": "s8asq2sF7-CG"
      },
      "outputs": [],
      "source": [
        "def print_prompt(prompt_text):\n",
        "    print(\"\\nPrompt - \", prompt_text)\n",
        "    return prompt_text\n",
        "\n",
        "rag_chain = ({\"context\" : retriever | format_docs, \"question\": RunnablePassthrough()}\n",
        "             | prompt\n",
        "             | RunnableLambda(print_prompt)\n",
        "             | llm\n",
        "             | StrOutputParser())"
      ]
    },
    {
      "cell_type": "code",
      "execution_count": null,
      "metadata": {
        "id": "B6zh4XGJ7-CH"
      },
      "outputs": [],
      "source": [
        "rag_chain.invoke(\"What are the timings of the genai course?\")"
      ]
    }
  ],
  "metadata": {
    "kernelspec": {
      "display_name": "base",
      "language": "python",
      "name": "python3"
    },
    "language_info": {
      "codemirror_mode": {
        "name": "ipython",
        "version": 3
      },
      "file_extension": ".py",
      "mimetype": "text/x-python",
      "name": "python",
      "nbconvert_exporter": "python",
      "pygments_lexer": "ipython3",
      "version": "3.12.7"
    },
    "colab": {
      "provenance": []
    }
  },
  "nbformat": 4,
  "nbformat_minor": 0
}